{
 "cells": [
  {
   "cell_type": "code",
   "execution_count": 1,
   "id": "5675af07-1b77-4589-b300-fbd49af8cd8f",
   "metadata": {},
   "outputs": [],
   "source": [
    "import pandas as pd\n",
    "import statsmodels.api as sm\n",
    "import numpy as np"
   ]
  },
  {
   "cell_type": "code",
   "execution_count": 2,
   "id": "7dfca1aa-6fba-49b7-90b9-394288cc11a6",
   "metadata": {},
   "outputs": [],
   "source": [
    "df1 = pd.read_csv('Clean_Data_08-06-KK.csv')\n",
    "df2 = pd.read_csv('Clean_Data_08-06.csv')\n",
    "df1 = df1.drop(columns=['2015'])\n",
    "pd.set_option('display.max_columns', None)"
   ]
  },
  {
   "cell_type": "code",
   "execution_count": 3,
   "id": "01c3f2c8-cf54-4a68-8b37-2e6e3b65c049",
   "metadata": {},
   "outputs": [],
   "source": [
    "# Concatenate the dataframes vertically\n",
    "df = pd.concat([df1, df2], axis=0, ignore_index=True)\n",
    "# df"
   ]
  },
  {
   "cell_type": "code",
   "execution_count": 5,
   "id": "c75639fa-c70e-4bf2-b94e-1f59f60e43ed",
   "metadata": {},
   "outputs": [],
   "source": [
    "# df[(df[\"Kommune\"] == \"København\") & (df[\"Type\"] != \"Ejerlejlighed\")]"
   ]
  },
  {
   "cell_type": "code",
   "execution_count": 6,
   "id": "cd86f833-5fea-4ce2-9844-5fb526153e1f",
   "metadata": {},
   "outputs": [],
   "source": [
    "# df.to_csv('Clean_08-06.csv', index=False)"
   ]
  },
  {
   "cell_type": "code",
   "execution_count": 8,
   "id": "b14c6a6e-8ad7-49c1-ab3d-9f6fb3b8054b",
   "metadata": {},
   "outputs": [],
   "source": [
    "from sklearn.linear_model import LinearRegression\n",
    "import pandas as pd\n",
    "import numpy as np\n",
    "import matplotlib.pyplot as plt\n",
    "\n",
    "# Filter data for the years 2019 and 2023\n",
    "df_filtered = df[df['Year'].isin([2019, 2023])]\n",
    "\n",
    "# Calculate mean Price_per_kvdm for each municipality and type for the years 2019 and 2023\n",
    "mean_price_per_kvdm = df_filtered.groupby(['Kommune', 'Year', 'Type'])['Price_per_kvdm'].mean().reset_index()\n",
    "\n",
    "# Calculate percentage change in Price_per_kvdm\n",
    "mean_price_per_kvdm['Procent_change'] = mean_price_per_kvdm.groupby(['Kommune', 'Type'])['Price_per_kvdm'].pct_change() * 100\n",
    "\n",
    "# Filter only the rows for the year 2023 to get the percentage change\n",
    "mean_price_per_kvdm_2023 = mean_price_per_kvdm[mean_price_per_kvdm['Year'] == 2023]\n",
    "\n",
    "# Calculate mean Distance_to_rådhus for each municipality and type (use the whole period to keep it constant)\n",
    "mean_distance = df_filtered.groupby(['Kommune', 'Type'])['Distance_to_rådhus'].mean().reset_index()\n",
    "\n",
    "# Take the log of Distance_to_rådhus\n",
    "mean_distance['log_Distance_to_rådhus'] = mean_distance['Distance_to_rådhus'].apply(lambda x: np.log(x))\n",
    "\n",
    "# Merge the two dataframes\n",
    "final_df = pd.merge(mean_price_per_kvdm_2023, mean_distance, on=['Kommune', 'Type'])\n",
    "\n",
    "# Select and rename columns\n",
    "final_df = final_df[['Kommune', 'Type', 'Procent_change', 'log_Distance_to_rådhus']]\n",
    "\n",
    "\n",
    "# Plot for each type with linear regression\n",
    "types = final_df['Type'].unique()\n",
    "for property_type in types:\n",
    "    subset = final_df[final_df['Type'] == property_type]\n",
    "    \n",
    "    # Scatter plot\n",
    "    plt.figure()\n",
    "    plt.scatter(subset['log_Distance_to_rådhus'], subset['Procent_change'], label='Data points')\n",
    "\n",
    "    # Annotate data points with Kommune names\n",
    "    for i, row in subset.iterrows():\n",
    "        plt.annotate(row['Kommune'], \n",
    "                     (row['log_Distance_to_rådhus'], row['Procent_change']),\n",
    "                     textcoords=\"offset points\",\n",
    "                     xytext=(0,5),\n",
    "                     ha='center',\n",
    "                     fontsize='xx-small')\n",
    "    \n",
    "    # Linear regression\n",
    "    X = subset['log_Distance_to_rådhus'].values.reshape(-1, 1)\n",
    "    y = subset['Procent_change'].values\n",
    "    reg = LinearRegression().fit(X, y)\n",
    "    y_pred = reg.predict(X)\n",
    "    plt.plot(subset['log_Distance_to_rådhus'], y_pred, color='red', label='Linear regression')\n",
    "    \n",
    "    # Plot settings\n",
    "    plt.title(f'Procent Change vs Log Distance to Rådhus for {property_type}')\n",
    "    plt.xlabel('Log Distance to Rådhus')\n",
    "    plt.ylabel('Procent Change in Price per kvm')\n",
    "    plt.legend()\n",
    "    plt.grid(True)\n",
    "    \n",
    "    # Save plot as image\n",
    "    plt.savefig(f'{property_type}_plot.png')\n",
    "    plt.close()  # Close the figure to ensure it does not display in the notebook\n"
   ]
  },
  {
   "cell_type": "code",
   "execution_count": null,
   "id": "2b16e131-e455-4154-947b-9da4d4753749",
   "metadata": {},
   "outputs": [],
   "source": []
  }
 ],
 "metadata": {
  "kernelspec": {
   "display_name": "Python 3 (ipykernel)",
   "language": "python",
   "name": "python3"
  },
  "language_info": {
   "codemirror_mode": {
    "name": "ipython",
    "version": 3
   },
   "file_extension": ".py",
   "mimetype": "text/x-python",
   "name": "python",
   "nbconvert_exporter": "python",
   "pygments_lexer": "ipython3",
   "version": "3.11.7"
  }
 },
 "nbformat": 4,
 "nbformat_minor": 5
}
