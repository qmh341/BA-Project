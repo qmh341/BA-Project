{
 "cells": [
  {
   "cell_type": "code",
   "execution_count": 1,
   "id": "5675af07-1b77-4589-b300-fbd49af8cd8f",
   "metadata": {},
   "outputs": [],
   "source": [
    "import pandas as pd\n",
    "import statsmodels.api as sm\n",
    "import numpy as np"
   ]
  },
  {
   "cell_type": "code",
   "execution_count": 2,
   "id": "7dfca1aa-6fba-49b7-90b9-394288cc11a6",
   "metadata": {},
   "outputs": [],
   "source": [
    "df1 = pd.read_csv('Clean_Data_08-06-KK.csv')\n",
    "df2 = pd.read_csv('Clean_Data_08-06.csv')\n",
    "df1 = df1.drop(columns=['2015'])\n",
    "pd.set_option('display.max_columns', None)"
   ]
  },
  {
   "cell_type": "code",
   "execution_count": 3,
   "id": "01c3f2c8-cf54-4a68-8b37-2e6e3b65c049",
   "metadata": {},
   "outputs": [],
   "source": [
    "# Concatenate the dataframes vertically\n",
    "df = pd.concat([df1, df2], axis=0, ignore_index=True)\n",
    "# df"
   ]
  },
  {
   "cell_type": "code",
   "execution_count": 5,
   "id": "c75639fa-c70e-4bf2-b94e-1f59f60e43ed",
   "metadata": {},
   "outputs": [],
   "source": [
    "# df[(df[\"Kommune\"] == \"København\") & (df[\"Type\"] != \"Ejerlejlighed\")]"
   ]
  },
  {
   "cell_type": "code",
   "execution_count": 6,
   "id": "cd86f833-5fea-4ce2-9844-5fb526153e1f",
   "metadata": {},
   "outputs": [],
   "source": [
    "df.to_csv('Clean_08-06.csv', index=False)"
   ]
  },
  {
   "cell_type": "code",
   "execution_count": null,
   "id": "b14c6a6e-8ad7-49c1-ab3d-9f6fb3b8054b",
   "metadata": {},
   "outputs": [],
   "source": []
  }
 ],
 "metadata": {
  "kernelspec": {
   "display_name": "Python 3 (ipykernel)",
   "language": "python",
   "name": "python3"
  },
  "language_info": {
   "codemirror_mode": {
    "name": "ipython",
    "version": 3
   },
   "file_extension": ".py",
   "mimetype": "text/x-python",
   "name": "python",
   "nbconvert_exporter": "python",
   "pygments_lexer": "ipython3",
   "version": "3.11.7"
  }
 },
 "nbformat": 4,
 "nbformat_minor": 5
}
